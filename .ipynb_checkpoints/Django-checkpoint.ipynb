{
 "cells": [
  {
   "cell_type": "code",
   "execution_count": 1,
   "id": "61b2f962-dcf7-4ff9-a6cc-2211c0fab9a6",
   "metadata": {},
   "outputs": [
    {
     "data": {
      "text/html": [
       "<style>\n",
       "    h1.title {\n",
       "        font-size: 2.5em;\n",
       "    }\n",
       "    h2.section {\n",
       "        font-size: 2.5em;\n",
       "    }\n",
       "    h3.subsection {\n",
       "        font-size: 2em;\n",
       "    }\n",
       "\n",
       "    .container {\n",
       "        display: flex;\n",
       "        flex-direction: row;\n",
       "        justify-content: flex-start;\n",
       "    }\n",
       "    table th {\n",
       "        background-color:white;\n",
       "        font-size:2em;\n",
       "    }\n",
       "\n",
       "    .container .border_black {\n",
       "        border: 5px solid black;\n",
       "        margin: 5px;\n",
       "    }\n",
       "    .container .bt_black {\n",
       "        border-top: 5px solid black;\n",
       "        margin: 5px;\n",
       "    }\n",
       "    .container .bb_black {\n",
       "        border-bottom: 5px solid black;\n",
       "        margin: 5px;\n",
       "    }\n",
       "    .container .br_black {\n",
       "        border-right: 5px solid black;\n",
       "        margin: 5px;\n",
       "    }\n",
       "    .container .bl_black {\n",
       "        border-left: 5px solid black;\n",
       "        margin: 5px;\n",
       "    }\n",
       "\n",
       "    .container .border_gray {\n",
       "        border: 5px solid #c4c4c4;\n",
       "        margin: 5px;\n",
       "    }\n",
       "    .container .bt_gray {\n",
       "        border-top: 5px solid #c4c4c4;\n",
       "    }\n",
       "    .container .bb_gray {\n",
       "        border-bottom: 5px solid #c4c4c4;\n",
       "    }\n",
       "    .container .br_gray {\n",
       "        border-right: 5px solid #c4c4c4;\n",
       "    }\n",
       "    .container .bl_gray {\n",
       "        border-left: 5px solid #c4c4c4;\n",
       "    }\n",
       "\n",
       "    .container .bg_blue {\n",
       "        background-color: #4db5db;\n",
       "        color: white;\n",
       "    }\n",
       "\n",
       "    .container .text_gray {\n",
       "        color: #a3a3a3\n",
       "</style>\n"
      ],
      "text/plain": [
       "<IPython.core.display.HTML object>"
      ]
     },
     "metadata": {},
     "output_type": "display_data"
    }
   ],
   "source": [
    "%%html\n",
    "<style>\n",
    "    h1.title {\n",
    "        font-size: 2.5em;\n",
    "    }\n",
    "    h2.section {\n",
    "        font-size: 2.5em;\n",
    "    }\n",
    "    h3.subsection {\n",
    "        font-size: 2em;\n",
    "    }\n",
    "\n",
    "    .container {\n",
    "        display: flex;\n",
    "        flex-direction: row;\n",
    "        justify-content: flex-start;\n",
    "    }\n",
    "    table th {\n",
    "        background-color:white;\n",
    "        font-size:2em;\n",
    "    }\n",
    "\n",
    "    .container .border_black {\n",
    "        border: 5px solid black;\n",
    "        margin: 5px;\n",
    "    }\n",
    "    .container .bt_black {\n",
    "        border-top: 5px solid black;\n",
    "        margin: 5px;\n",
    "    }\n",
    "    .container .bb_black {\n",
    "        border-bottom: 5px solid black;\n",
    "        margin: 5px;\n",
    "    }\n",
    "    .container .br_black {\n",
    "        border-right: 5px solid black;\n",
    "        margin: 5px;\n",
    "    }\n",
    "    .container .bl_black {\n",
    "        border-left: 5px solid black;\n",
    "        margin: 5px;\n",
    "    }\n",
    "\n",
    "    .container .border_gray {\n",
    "        border: 5px solid #c4c4c4;\n",
    "        margin: 5px;\n",
    "    }\n",
    "    .container .bt_gray {\n",
    "        border-top: 5px solid #c4c4c4;\n",
    "    }\n",
    "    .container .bb_gray {\n",
    "        border-bottom: 5px solid #c4c4c4;\n",
    "    }\n",
    "    .container .br_gray {\n",
    "        border-right: 5px solid #c4c4c4;\n",
    "    }\n",
    "    .container .bl_gray {\n",
    "        border-left: 5px solid #c4c4c4;\n",
    "    }\n",
    "\n",
    "    .container .bg_blue {\n",
    "        background-color: #4db5db;\n",
    "        color: white;\n",
    "    }\n",
    "\n",
    "    .container .text_gray {\n",
    "        color: #a3a3a3\n",
    "</style>"
   ]
  },
  {
   "cell_type": "markdown",
   "id": "cb7797c6-d70c-4a56-965c-1df77267a907",
   "metadata": {},
   "source": [
    "<h1 class=\"title\">Building Web Applications using the Django Framework</h1>"
   ]
  },
  {
   "cell_type": "markdown",
   "id": "b90aea54-2922-46e3-b2d3-dd77051f043c",
   "metadata": {},
   "source": [
    "<p>A Django project can contain the Django site itself and many Django applications.</p>\n",
    "<div class=\"container\">\n",
    "    <div>\n",
    "    <table class=\"border_black\">\n",
    "        <tr>\n",
    "            <th colspan=\"4\" class=\"\">Django Project</th>\n",
    "        </tr>\n",
    "        <tr>\n",
    "            <th class=\"br_black\">Django Site</th>\n",
    "            <th class=\"br_black\">Application 1</th>\n",
    "            <th class=\"br_black\">Application 2</th>\n",
    "            <th class=\"\">Application ...</th>\n",
    "        </tr>\n",
    "    </table>\n",
    "    </div>\n",
    "</div>\n",
    "<hr>"
   ]
  },
  {
   "cell_type": "markdown",
   "id": "90c91603-4d2b-4c7c-8ccf-8bbc5fcbdb97",
   "metadata": {},
   "source": [
    "<h2 class=\"section\">Django Site</h2>"
   ]
  },
  {
   "cell_type": "markdown",
   "id": "0f140718-96fc-43fd-80cc-683230b2fb77",
   "metadata": {},
   "source": [
    "<div class=\"container\">\n",
    "    <div>\n",
    "    <table class=\"border_gray text_gray\">\n",
    "        <tr>\n",
    "            <th colspan=\"4\" class=\"\">Django Project</th>\n",
    "        </tr>\n",
    "        <tr>\n",
    "            <th class=\"border_black bg_blue\">Django Site</th>\n",
    "            <th class=\"br_gray\">Application 1</th>\n",
    "            <th class=\"br_gray\">Application 2</th>\n",
    "            <th class=\"\">Application ...</th>\n",
    "        </tr>\n",
    "    </table>\n",
    "    </div>\n",
    "</div>\n",
    "<hr>\n",
    "<br>\n",
    "<p>\n",
    "    The <b>Django Site</b> contains many components, including a <b>WSGI file</b> which is used by servers to run WSGI applications such as a Django site with its many Django applications.\n",
    "</p>\n",
    "<figure>\n",
    "    <img src=\"./django_site_components.png\" alt=\"Django site components\">\n",
    "    <figcaption>Django site components as seen in the file directory</figcaption>\n",
    "</figure>"
   ]
  },
  {
   "cell_type": "markdown",
   "id": "16711f21-e951-49be-bf30-ef669ddffe2a",
   "metadata": {},
   "source": [
    "<h3 class=\"subsection\">Settings</h3>"
   ]
  },
  {
   "cell_type": "markdown",
   "id": "0af9e358-4539-4598-bbb4-c933af14dcfe",
   "metadata": {},
   "source": [
    "<p>\n",
    "    There is also a <b>Settings File</b> which is used to declare variables that are used by Django. Some examples are <b><em>ALLOWED_HOSTS</em></b> and <b><em>INSTALLED_APPS</em></b>.\n",
    "</p>\n",
    "<figure>\n",
    "    <img src=\"./django_settings.png\" alt=\"Django settings file contents\">\n",
    "    <figcaption>Excerpt of Django Settings File contents</figcaption>\n",
    "</figure>\n",
    "<br>\n",
    "<p>\n",
    "    It is in the <b>Settings File</b> that you can set the backend used by Django. You will change the values under <b><em>DATABASES</em></b> depending on what database engine your system is to use.\n",
    "</p>\n",
    "<p>\n",
    "    Setting <b>Environment Variables</b> that you can use in your application's code can be read in and set here as well; Those variables will get set when the server starts.\n",
    "</p>\n",
    "<p>\n",
    "    The settings in this file all affect the behavior of the running Django site and all applications.\n",
    "</p>"
   ]
  },
  {
   "cell_type": "markdown",
   "id": "ae74c048-bb0e-4ee1-9dd8-db733e0463f8",
   "metadata": {},
   "source": [
    "<h3 class=\"subsection\">URLS</h3>"
   ]
  },
  {
   "cell_type": "markdown",
   "id": "7604f9f4-d092-4de9-838a-93cab02ae5ee",
   "metadata": {},
   "source": [
    "<p>\n",
    "    The <b>URLS File</b> of the Django site has a list of URL paths that will be searched to find a match with a user's request.\n",
    "</p>\n",
    "<p>\n",
    "    The basic purpose of the <b><em>path</em></b> function in this list is to map a URL to a <b><em>view</em></b> function defined somewhere else. View functions are defined in the applications, although you may be able to write a view definition in a file within the site directory itself, so long as the function returns a valid response.\n",
    "</p>\n",
    "<figure>\n",
    "    <img src=\"./django_basic_urls_file.png\" alt=\"Basic URLs file for a Django application\">\n",
    "    <figcaption>Basic URLs file for a Django Application (Not a Django Site)</figcaption>\n",
    "</figure>\n",
    "<br>\n",
    "<p>\n",
    "    The applications can have their own URL files which serve the same purpose.\n",
    "</p>\n",
    "<p>\n",
    "    The application-specific urls can be linked to the site from the <b>Site URLs</b> file using the <b><em>include</em></b> function.\n",
    "</p>\n",
    "<figure>\n",
    "    <img src=\"./django_site_urls_file.png\" alt=\"URLs file for a Django Site with link to Application URLs\">\n",
    "    <figcaption>URLs file for a Django Site with link to Application URLs</figcaption>\n",
    "</figure>\n",
    "<br>\n",
    "<p>\n",
    "    This makes it possible to give applications their own directory structure that is unique regardless of the other installed applications on the site. This lends well to a modular nature of Django applications.\n",
    "</p>"
   ]
  },
  {
   "cell_type": "markdown",
   "id": "d0ff1d92-d977-4ff0-a3ad-b5a0b37b6be7",
   "metadata": {},
   "source": [
    "<h2 class=\"section\">Django Applications</h2>"
   ]
  },
  {
   "cell_type": "markdown",
   "id": "501cdeaa-f442-42b0-b022-8d48c90b8aef",
   "metadata": {},
   "source": [
    "<div class=\"container\">\n",
    "    <div>\n",
    "    <table class=\"border_gray text_gray\">\n",
    "        <tr>\n",
    "            <th colspan=\"4\" class=\"\">Django Project</th>\n",
    "        </tr>\n",
    "        <tr>\n",
    "            <th class=\"\">Django Site</th>\n",
    "            <th class=\"border_black bg_blue\">Application 1</th>\n",
    "            <th class=\"border_black bg_blue\">Application 2</th>\n",
    "            <th class=\"border_black bg_blue\">Application ...</th>\n",
    "        </tr>\n",
    "    </table>\n",
    "    </div>\n",
    "</div>\n",
    "<hr>"
   ]
  },
  {
   "cell_type": "markdown",
   "id": "bed113b8-0b4d-4b94-90c3-9f2f5993abea",
   "metadata": {},
   "source": [
    "<p>\n",
    "    The <b>Django Applications</b> themselves have many components. The <b>URLs</b> being one of them. These link the various URL paths to <b><em>view</em></b> functions that are defined in the <b>Views File.</b>\n",
    "</p>\n",
    "<figure>\n",
    "    <img src=\"./django_app_components.png\" alt=\"Components of a Django Applications as seen in the file directory\">\n",
    "    <figcaption>Components of a Django Applications as seen in the file directory</figcaption>\n",
    "</figure>"
   ]
  },
  {
   "cell_type": "markdown",
   "id": "b893d1ae-c60f-4dc4-9903-fdc63b8fc26b",
   "metadata": {},
   "source": [
    "<h3 class=\"subsection\">Views</h3>"
   ]
  },
  {
   "cell_type": "markdown",
   "id": "78f91867-5815-4853-834f-a0c466e84bad",
   "metadata": {},
   "source": [
    "<p>\n",
    "    Views are functions defined in the application's views file. A <b><em>view</em></b> takes a <b><em>request</em></b> as an argument and returns a <b><em>response.</em></b> A simple <b>HTTP Response</b> can be returned, but you can also return <b>Rendered HTML Templates</b> and <b>JSON responses.</b> This provides various ways you can make use of the views in an app. JSON responses are a good way to build out views to use as an API for other applications or client side code, which can request and receive data in a consistent format that can be parsed and used as needed. Rendering templates and sending them as responses is a good way of dynamically generating html documents, which can reduce the amount of hard coding within the html files while adding flexibility. \n",
    "</p>\n",
    "<figure>\n",
    "    <img src=\"./django_app_views.png\" alt=\"Contents of the Views File in a basic Django Application\">\n",
    "    <figcaption>Contents of the Views File in a basic Django Application</figcaption>\n",
    "</figure>"
   ]
  },
  {
   "cell_type": "markdown",
   "id": "36c56255-9072-4a27-b657-8bd739be2e7d",
   "metadata": {},
   "source": [
    "<h3 class=\"subsection\">Models</h3>"
   ]
  },
  {
   "cell_type": "markdown",
   "id": "21f315de-a8fd-4b93-8aa7-f2e3b0aded9c",
   "metadata": {},
   "source": [
    "<p>\n",
    "    Another primary component of an application are the <b>Models.</b> Models are defined as <b><em>classes</em></b> that extend the <b>Django Model Object.</b> Each model represents a <b><em>table</em></b> that will be created within the Django Site's <b>Backend Database.</b>\n",
    "</p>\n",
    "<figure>\n",
    "    <img src=\"./django_app_models.png\" alt=\"Contents of the Models File in a basic Django Application\">\n",
    "    <figcaption>Contents of the Models File in a basic Django Application</figcaption>\n",
    "</figure>\n",
    "<br>\n",
    "<p>\n",
    "    A model has properties that will be used as the fields in the table that is created in the database. These properties are given datatypes depending on the data needed to be stored in the field. The datatypes are all defined under django.db.models (technically django.db.models.fields but they are imported into django.db.models for convenience) and include Character fields (text), Boolean fields (true/false), Date and Datetime fields, Integer and Decimal fields, and much more.\n",
    "</p>\n",
    "<p>\n",
    "    Notice the <b><em>models.ForeignKey</em></b> field being used in the above screenshot for the <b><em>citizenship</em></b> property of the <b><em>Person</em></b> model. Notice the first argument to the ForeignKey constructor is \"Country.\" This is creating a Foreign Key Constraint on Person and Country, where the field <b><em>citizenship</em></b> must be a reference to a valid Country. The <b><em>on_delete</em></b> keyword-argument in that same constructor is set to <b><em>PROTECT</em></b>, which will stop the Country from being deleted from the Country table as long as there is a reference to that Country in the Person Foreign Key Field.\n",
    "</p>\n",
    "<p>\n",
    "    After the models have been created or existing models are altered, the database will need to be updated to reflect the changes using <b>Migrations</b>. This is done first by making migrations and then performing the migrations. Making migrations detects any necessary changes to the database structure based on the changes in the models. Migration files are created and stored in the migrations directory of the application. When the migrations are performed, the migration files are used to run through the necessary transactions on the database. There is a database table, independent of specific applications, that is used to track which migrations have already been made.\n",
    "</p>\n",
    "<figure>\n",
    "    <img src=\"./django_makemigrations.png\" alt=\"Output from running the makemigrations command\">\n",
    "    <figcaption>Output from running the <b><em>makemigrations</em></b> command</figcaption>\n",
    "</figure>"
   ]
  }
 ],
 "metadata": {
  "kernelspec": {
   "display_name": "Python 3 (ipykernel)",
   "language": "python",
   "name": "python3"
  },
  "language_info": {
   "codemirror_mode": {
    "name": "ipython",
    "version": 3
   },
   "file_extension": ".py",
   "mimetype": "text/x-python",
   "name": "python",
   "nbconvert_exporter": "python",
   "pygments_lexer": "ipython3",
   "version": "3.11.9"
  }
 },
 "nbformat": 4,
 "nbformat_minor": 5
}
